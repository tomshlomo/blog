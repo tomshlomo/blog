{
  "cells": [
    {
      "cell_type": "raw",
      "metadata": {},
      "source": [
        "---\n",
        "title: \"Efficient Leave One Out Cross Validation - Part 2\"\n",
        "author: \"Tom Shlomo\"\n",
        "date: \"2024-02-27\"\n",
        "description: The non quadratic case\n",
        "draft: true\n",
        "---"
      ]
    },
    {
      "cell_type": "markdown",
      "metadata": {},
      "source": [
        "# Deriving efficient LOOCV for the non-quadratic case\n",
        "In this section, we extend our approach to scenarios where $l$ or $r$ are not quadratic. Although solving equation @eq-theta-def is not simplified to solving a linear equation in this case, we can resort to the following approximation:\n",
        "$$\n",
        "H^{(j)} (\\theta^{(j)} - \\theta) \\approx -g^{(j)}\n",
        "$$ {#eq-newton-approx}\n",
        "where $H^{(j)}$ and $g^{(j)}$ represent the Hessian and gradient of $f^{(j)}$ at $\\theta$, respectively.\n",
        "The rationale here is that $\\theta$ and $\\theta^{(j)}$ should be relatively close (and closer as $n$ increases), making it likely that Newton's method on $f^{(j)}$ converges in a single iteration when initialized on $\\theta$. \n",
        "\n",
        "Similar to the quadratic case, we can relate $H^{(j)}$ and $g^{(j)}$ to $H$ and $g$, the Hessian and gradient of $f$ at $\\theta$:\n",
        "\\begin{align*}\n",
        "H^{(j)} &= H - x_j l''(\\hat{y}_i ; y_i) x_j^T\n",
        "\\\\\n",
        "g^{(j)} &= g - x_j l'(\\hat{y}_i ; y_i) = - x_j l'(\\hat{y}_i ; y_i)\n",
        "\\end{align*}\n",
        "allowing us to rewrite @eq-newton-approx as:\n",
        "$$\n",
        "\\left(\n",
        "    H - x_j l''\\left(\\hat{y}_i ; y_i\\right) x_j^T\n",
        "\\right) \n",
        "\\left( \\theta^{(j)} - \\theta \\right) \n",
        "\\approx  x_j l'(\\hat{y}_i ; y_i).\n",
        "$$\n",
        "Next, we introduce the second equation:\n",
        "\\begin{align*}\n",
        "H \\theta^{(j)} \n",
        "    - x_j l''(\\hat{y}_i ; y_i) \\tilde{y}_j\n",
        "    - H \\theta\n",
        "    + x_j l''(\\hat{y}_i ; y_i) \\hat{y}_j\n",
        "    &\\approx\n",
        "    x_j l'(\\hat{y}_i ; y_i)\n",
        "    \\\\\n",
        "    \\tilde{y}_j &= x_j ^T \\theta^{(j)}.\n",
        "\\end{align*}\n",
        "Now, we can eliminate $\\theta^{(j)}$ and solve for $\\tilde{y}_j$:\n",
        "\\begin{align*}\n",
        "\\theta^{(j)} &\\approx \\theta + t_j (l'(\\hat{y}_i ; y_i) +  l''(\\hat{y}_i ; y_i) (\\tilde{y}_j - \\hat{y}_j))\n",
        "\\\\\n",
        "\\tilde{y}_j &\\approx x_j ^T \\left(\n",
        "    \\theta + t_j (l'(\\hat{y}_i ; y_i) +  l''(\\hat{y}_i ; y_i) (\\tilde{y}_j - \\hat{y}_j))\n",
        "    \\right)\n",
        "\\\\\n",
        "\\tilde{y}_j &\\approx \n",
        "     \\hat{y}_j \n",
        "    + \\frac{h_j}{1 - h_j l''(\\hat{y}_i ; y_i)}  l'(\\hat{y}_i ; y_i) \n",
        "\\end{align*}\n",
        "where $t_j := H^{-1} x_j$ and $h_j := x_j^T t_j$.\n",
        "\n",
        "It's worth noting the resemblance between the expression for $\\tilde{y}_j$ here and the expression obtained for the quadratic case."
      ]
    },
    {
      "cell_type": "markdown",
      "metadata": {},
      "source": [
        "## Python implementation\n",
        "Once more, we'll turn to jax, leveraging its automatic differentiation capabilities.\n",
        "Our estimator will take as inputs the loss and regularization functions, along with an optional \"inverse link\" function. This function can be employed to transform the predicted labels (e.g. a sigmoid to convert log-odds to probabilities in logistic regression)."
      ]
    },
    {
      "cell_type": "markdown",
      "metadata": {},
      "source": []
    }
  ],
  "metadata": {
    "kernelspec": {
      "display_name": ".venv",
      "language": "python",
      "name": "python3"
    },
    "language_info": {
      "codemirror_mode": {
        "name": "ipython",
        "version": 3
      },
      "file_extension": ".py",
      "mimetype": "text/x-python",
      "name": "python",
      "nbconvert_exporter": "python",
      "pygments_lexer": "ipython3",
      "version": "3.11.7"
    }
  },
  "nbformat": 4,
  "nbformat_minor": 2
}
